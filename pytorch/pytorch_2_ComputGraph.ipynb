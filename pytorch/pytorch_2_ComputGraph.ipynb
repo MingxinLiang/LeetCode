{
 "cells": [
  {
   "cell_type": "markdown",
   "metadata": {},
   "source": [
    "# 计算图\n",
    "\n",
    "## 计算图的定义\n",
    "计算图组要由叶子和边的链接关系组成，2条（2元运算）和1条边可以代表一个运算符，\n",
    "每个tensor中，都含有计算图相关属性\n",
    "-is_leaf: 指示张量是否为叶子节点。\n",
    "-grad_fn: 记录创建该张量时所用的方法（函数）。在梯度求导的过程中，会根据由加法创建还是由乘法创建来使用不同的求导法则。"
   ]
  },
  {
   "cell_type": "code",
   "execution_count": 1,
   "metadata": {},
   "outputs": [
    {
     "name": "stdout",
     "output_type": "stream",
     "text": [
      "tensor([5.])\n"
     ]
    }
   ],
   "source": [
    "import torch\n",
    "w = torch.tensor([1.], requires_grad=True)\n",
    "x = torch.tensor([2.], requires_grad=True)\n",
    "# y=(x+w)*(w+1)\n",
    "a = torch.add(w, x)     # retain_grad()\n",
    "b = torch.add(w, 1)\n",
    "y = torch.mul(a, b)\n",
    "# y 求导\n",
    "y.backward()\n",
    "# 打印 w 的梯度，就是 y 对 w 的导数\n",
    "print(w.grad)\n"
   ]
  },
  {
   "cell_type": "code",
   "execution_count": 2,
   "metadata": {},
   "outputs": [
    {
     "name": "stdout",
     "output_type": "stream",
     "text": [
      "is_leaf:\n",
      " True True False False False\n",
      "gradient:\n",
      " tensor([5.]) tensor([2.]) None None None\n"
     ]
    },
    {
     "name": "stderr",
     "output_type": "stream",
     "text": [
      "/Users/liangmingxin/opt/anaconda3/lib/python3.8/site-packages/torch/_tensor.py:1013: UserWarning: The .grad attribute of a Tensor that is not a leaf Tensor is being accessed. Its .grad attribute won't be populated during autograd.backward(). If you indeed want the .grad field to be populated for a non-leaf Tensor, use .retain_grad() on the non-leaf Tensor. If you access the non-leaf Tensor by mistake, make sure you access the leaf Tensor instead. See github.com/pytorch/pytorch/pull/30531 for more informations. (Triggered internally at  /Users/distiller/project/conda/conda-bld/pytorch_1634272482218/work/build/aten/src/ATen/core/TensorBody.h:417.)\n",
      "  return self._grad\n"
     ]
    }
   ],
   "source": [
    "# 查看叶子结点\n",
    "print(\"is_leaf:\\n\", w.is_leaf, x.is_leaf, a.is_leaf, b.is_leaf, y.is_leaf)\n",
    "\n",
    "# 查看梯度\n",
    "print(\"gradient:\\n\", w.grad, x.grad, a.grad, b.grad, y.grad)"
   ]
  },
  {
   "cell_type": "code",
   "execution_count": 3,
   "metadata": {},
   "outputs": [
    {
     "name": "stdout",
     "output_type": "stream",
     "text": [
      "w.grad_fn =  None\n",
      "x.grad_fn =  None\n",
      "a.grad_fn =  <AddBackward0 object at 0x7fc4f5f8e850>\n",
      "b.grad_fn =  <AddBackward0 object at 0x7fc4f5f8e0d0>\n",
      "y.grad_fn =  <MulBackward0 object at 0x7fc4f5f8e850>\n"
     ]
    }
   ],
   "source": [
    "# 查看梯度函数\n",
    "# 该函数表示变量的由来，用于计算反向\n",
    "print(\"w.grad_fn = \", w.grad_fn)\n",
    "print(\"x.grad_fn = \", x.grad_fn)\n",
    "print(\"a.grad_fn = \", a.grad_fn)\n",
    "print(\"b.grad_fn = \", b.grad_fn)\n",
    "print(\"y.grad_fn = \", y.grad_fn)"
   ]
  },
  {
   "cell_type": "code",
   "execution_count": 4,
   "metadata": {},
   "outputs": [
    {
     "name": "stdout",
     "output_type": "stream",
     "text": [
      "非 inplace 操作\n",
      "140483976801392 tensor([1.])\n",
      "140483915681600 tensor([2.])\n",
      "inplace 操作\n",
      "140483912892064 tensor([1.])\n",
      "140483912892064 tensor([2.])\n"
     ]
    }
   ],
   "source": [
    "# 依赖于叶子节点的节点，requires_grad 属性默认为 True。\n",
    "# 叶子节点不可执行 inplace 操作。\n",
    "print(\"非 inplace 操作\")\n",
    "a = torch.ones((1, ))\n",
    "print(id(a), a)\n",
    "# 非 inplace 操作，内存地址不一样\n",
    "a = a + torch.ones((1, ))\n",
    "print(id(a), a)\n",
    "\n",
    "print(\"inplace 操作\")\n",
    "a = torch.ones((1, ))\n",
    "print(id(a), a)\n",
    "# inplace 操作，内存地址一样\n",
    "a += torch.ones((1, ))\n",
    "print(id(a), a)\n"
   ]
  }
 ],
 "metadata": {
  "interpreter": {
   "hash": "73e03da126b73bfff3642ec5261d56fa25c444ea595de51041687efaa60dda41"
  },
  "kernelspec": {
   "display_name": "Python 3.7.6 64-bit ('base': conda)",
   "language": "python",
   "name": "python3"
  },
  "language_info": {
   "codemirror_mode": {
    "name": "ipython",
    "version": 3
   },
   "file_extension": ".py",
   "mimetype": "text/x-python",
   "name": "python",
   "nbconvert_exporter": "python",
   "pygments_lexer": "ipython3",
   "version": "3.8.5"
  },
  "orig_nbformat": 4
 },
 "nbformat": 4,
 "nbformat_minor": 2
}
