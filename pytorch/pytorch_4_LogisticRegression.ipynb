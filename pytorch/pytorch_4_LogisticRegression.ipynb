{
 "cells": [
  {
   "cell_type": "code",
   "execution_count": 9,
   "metadata": {},
   "outputs": [],
   "source": [
    "# 逻辑回归\n",
    "import torch\n",
    "import torch.nn as nn\n",
    "import matplotlib.pyplot as plt\n",
    "import numpy as np\n",
    "\n",
    "torch.manual_seed(10)\n",
    "\n",
    "# generate simulation data\n",
    "sample_num = 100\n",
    "mean_value = 1.7\n",
    "bias = 1 \n",
    "n_data = torch.ones(sample_num, 2) #用于生成均值方差\n",
    "\n",
    "x0 = torch.normal(mean_value * n_data, 1) + bias\n",
    "y0 = torch.zeros(sample_num)\n",
    "\n",
    "x1 = torch.normal(-mean_value * n_data, 1) + bias\n",
    "y1 = torch.ones(sample_num)\n",
    "\n",
    "train_x = torch.cat((x0, x1), 0)\n",
    "train_y = torch.cat((y0, y1), 0)"
   ]
  },
  {
   "cell_type": "code",
   "execution_count": 11,
   "metadata": {},
   "outputs": [
    {
     "name": "stdout",
     "output_type": "stream",
     "text": [
      "iter : 0, acc: 0.98\n",
      "iter : 20, acc: 0.975\n",
      "iter : 40, acc: 0.975\n",
      "iter : 60, acc: 0.975\n",
      "iter : 80, acc: 0.98\n"
     ]
    }
   ],
   "source": [
    "# build a model\n",
    "\n",
    "class LR(nn.Module):\n",
    "    def __init__(self):\n",
    "        super(LR, self).__init__()\n",
    "        self.feature = nn.Linear(2, 1)\n",
    "        self.sigmoid = nn.Sigmoid()\n",
    "        \n",
    "    def forward(self, x):\n",
    "        x = self.feature(x)\n",
    "        x = self.sigmoid(x)\n",
    "        return x\n",
    "    \n",
    "lr_net = LR()\n",
    "\n",
    "# build loss\n",
    "loss_fn = nn.BCELoss()\n",
    "\n",
    "# build optimizer\n",
    "lr = 0.01\n",
    "optimizer = torch.optim.SGD(lr_net.parameters(), lr=lr, momentum=0.9)\n",
    "\n",
    "# train\n",
    "for iter in range(100):\n",
    "    y_pre = lr_net(train_x)\n",
    "    \n",
    "    loss = loss_fn(y_pre.squeeze(), train_y)\n",
    "    \n",
    "    loss.backward()\n",
    "    \n",
    "    optimizer.step()\n",
    "    optimizer.zero_grad()\n",
    "\n",
    "    if iter % 20 == 0:\n",
    "        mask = y_pre.ge(0.5).float().squeeze() # shape(200), 大于0.5为1，否则为0\n",
    "        correct = (mask == train_y).sum() # mask与label相等的数量\n",
    "        acc = correct.item() / train_y.size(0)\n",
    "        \n",
    "        print(\"iter : {}, acc: {}\".format(iter, acc))"
   ]
  },
  {
   "cell_type": "code",
   "execution_count": null,
   "metadata": {},
   "outputs": [],
   "source": []
  }
 ],
 "metadata": {
  "interpreter": {
   "hash": "ca046b47b406f7b30aefed738e5e187fb84305d2c79705ba3314c8947ed88f9f"
  },
  "kernelspec": {
   "display_name": "Python 3.8.5 64-bit ('base': conda)",
   "language": "python",
   "name": "python3"
  },
  "language_info": {
   "codemirror_mode": {
    "name": "ipython",
    "version": 3
   },
   "file_extension": ".py",
   "mimetype": "text/x-python",
   "name": "python",
   "nbconvert_exporter": "python",
   "pygments_lexer": "ipython3",
   "version": "3.8.5"
  },
  "orig_nbformat": 4
 },
 "nbformat": 4,
 "nbformat_minor": 2
}
